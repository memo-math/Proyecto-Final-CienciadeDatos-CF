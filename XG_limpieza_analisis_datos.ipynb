{
  "nbformat": 4,
  "nbformat_minor": 0,
  "metadata": {
    "colab": {
      "name": "XG_limpieza_analisis_datos.ipynb",
      "provenance": [],
      "collapsed_sections": [],
      "authorship_tag": "ABX9TyOJYIz8x+m8Vf09qSj4iYaO",
      "include_colab_link": true
    },
    "kernelspec": {
      "name": "python3",
      "display_name": "Python 3"
    },
    "language_info": {
      "name": "python"
    }
  },
  "cells": [
    {
      "cell_type": "markdown",
      "metadata": {
        "id": "view-in-github",
        "colab_type": "text"
      },
      "source": [
        "<a href=\"https://colab.research.google.com/github/memo-math/Proyecto-Final-CienciadeDatos-CF/blob/main/XG_limpieza_analisis_datos.ipynb\" target=\"_parent\"><img src=\"https://colab.research.google.com/assets/colab-badge.svg\" alt=\"Open In Colab\"/></a>"
      ]
    },
    {
      "cell_type": "markdown",
      "source": [
        "## Carga del dataset y primeras transformaciones"
      ],
      "metadata": {
        "id": "d_p7UJpcRP3s"
      }
    },
    {
      "cell_type": "markdown",
      "source": [
        "En este notebook empezaremos a limpiar, transformar y entender nuestro dataset para ir preparando los datos para la creación del modelo."
      ],
      "metadata": {
        "id": "a7qEsqNRGhJ7"
      }
    },
    {
      "cell_type": "code",
      "source": [
        "#empecemos importando las librerías que vamos a necesitar\n",
        "!pip install mplsoccer\n",
        "\n",
        "import pandas as pd\n",
        "import numpy as np\n",
        "import matplotlib.pyplot as plt\n",
        "import seaborn as sns\n",
        "import ast\n",
        "\n",
        "from mplsoccer import Pitch\n",
        "from mplsoccer import VerticalPitch\n",
        "from matplotlib.colors import LinearSegmentedColormap"
      ],
      "metadata": {
        "id": "A6VQJ514H8hy"
      },
      "execution_count": null,
      "outputs": []
    },
    {
      "cell_type": "code",
      "execution_count": 2,
      "metadata": {
        "id": "QUsfUzQjGb6u"
      },
      "outputs": [],
      "source": [
        "#carguemos el dataset\n",
        "all_shots = pd.read_csv('shots_carga.csv')"
      ]
    },
    {
      "cell_type": "code",
      "source": [
        "all_shots.columns"
      ],
      "metadata": {
        "colab": {
          "base_uri": "https://localhost:8080/"
        },
        "id": "7LizoIwOJhO5",
        "outputId": "e672865f-b715-4897-c82e-669fec92722d"
      },
      "execution_count": 3,
      "outputs": [
        {
          "output_type": "execute_result",
          "data": {
            "text/plain": [
              "Index(['Unnamed: 0', 'period', 'minute', 'location', 'under_pressure',\n",
              "       'player_name', 'pattern_of_play', 'team', 'player_position',\n",
              "       'statsbomb_xg', 'technique', 'body_part', 'tipe', 'outcome',\n",
              "       'first_time'],\n",
              "      dtype='object')"
            ]
          },
          "metadata": {},
          "execution_count": 3
        }
      ]
    },
    {
      "cell_type": "markdown",
      "source": [
        "Removamos la columna `Unnamed: 0` y cambiemos el tipo de la columna `location`"
      ],
      "metadata": {
        "id": "Y5d2k4tJJ91F"
      }
    },
    {
      "cell_type": "code",
      "source": [
        "all_shots=all_shots.drop('Unnamed: 0', axis=1)"
      ],
      "metadata": {
        "id": "YvJAkQ3GJ8rR"
      },
      "execution_count": 4,
      "outputs": []
    },
    {
      "cell_type": "code",
      "source": [
        "all_shots['location']=all_shots['location'].apply(ast.literal_eval) #al cargar el dataframe location se volvio tipo str, la estamos volviendo a su valor original list"
      ],
      "metadata": {
        "id": "lgnAvgtdLNNC"
      },
      "execution_count": 5,
      "outputs": []
    },
    {
      "cell_type": "code",
      "source": [
        "all_shots.head()"
      ],
      "metadata": {
        "colab": {
          "base_uri": "https://localhost:8080/",
          "height": 206
        },
        "id": "BSoaT62uMin_",
        "outputId": "559d01cc-89ec-4924-ba6c-6a30c228a64e"
      },
      "execution_count": 6,
      "outputs": [
        {
          "output_type": "execute_result",
          "data": {
            "text/html": [
              "\n",
              "  <div id=\"df-abd35ed6-85dd-4ef7-b5df-667d6721bd41\">\n",
              "    <div class=\"colab-df-container\">\n",
              "      <div>\n",
              "<style scoped>\n",
              "    .dataframe tbody tr th:only-of-type {\n",
              "        vertical-align: middle;\n",
              "    }\n",
              "\n",
              "    .dataframe tbody tr th {\n",
              "        vertical-align: top;\n",
              "    }\n",
              "\n",
              "    .dataframe thead th {\n",
              "        text-align: right;\n",
              "    }\n",
              "</style>\n",
              "<table border=\"1\" class=\"dataframe\">\n",
              "  <thead>\n",
              "    <tr style=\"text-align: right;\">\n",
              "      <th></th>\n",
              "      <th>period</th>\n",
              "      <th>minute</th>\n",
              "      <th>location</th>\n",
              "      <th>under_pressure</th>\n",
              "      <th>player_name</th>\n",
              "      <th>pattern_of_play</th>\n",
              "      <th>team</th>\n",
              "      <th>player_position</th>\n",
              "      <th>statsbomb_xg</th>\n",
              "      <th>technique</th>\n",
              "      <th>body_part</th>\n",
              "      <th>tipe</th>\n",
              "      <th>outcome</th>\n",
              "      <th>first_time</th>\n",
              "    </tr>\n",
              "  </thead>\n",
              "  <tbody>\n",
              "    <tr>\n",
              "      <th>0</th>\n",
              "      <td>1</td>\n",
              "      <td>1</td>\n",
              "      <td>[100.6, 54.6]</td>\n",
              "      <td>NaN</td>\n",
              "      <td>Stine Larsen</td>\n",
              "      <td>From Keeper</td>\n",
              "      <td>Aston Villa</td>\n",
              "      <td>Left Center Forward</td>\n",
              "      <td>0.037459</td>\n",
              "      <td>Normal</td>\n",
              "      <td>Left Foot</td>\n",
              "      <td>Open Play</td>\n",
              "      <td>Blocked</td>\n",
              "      <td>False</td>\n",
              "    </tr>\n",
              "    <tr>\n",
              "      <th>1</th>\n",
              "      <td>1</td>\n",
              "      <td>5</td>\n",
              "      <td>[109.4, 43.0]</td>\n",
              "      <td>NaN</td>\n",
              "      <td>Vivianne Miedema</td>\n",
              "      <td>From Corner</td>\n",
              "      <td>Arsenal WFC</td>\n",
              "      <td>Left Wing</td>\n",
              "      <td>0.026655</td>\n",
              "      <td>Normal</td>\n",
              "      <td>Head</td>\n",
              "      <td>Open Play</td>\n",
              "      <td>Wayward</td>\n",
              "      <td>False</td>\n",
              "    </tr>\n",
              "    <tr>\n",
              "      <th>2</th>\n",
              "      <td>1</td>\n",
              "      <td>6</td>\n",
              "      <td>[95.6, 38.9]</td>\n",
              "      <td>NaN</td>\n",
              "      <td>Jill Roord</td>\n",
              "      <td>From Throw In</td>\n",
              "      <td>Arsenal WFC</td>\n",
              "      <td>Left Center Midfield</td>\n",
              "      <td>0.034884</td>\n",
              "      <td>Normal</td>\n",
              "      <td>Right Foot</td>\n",
              "      <td>Open Play</td>\n",
              "      <td>Blocked</td>\n",
              "      <td>False</td>\n",
              "    </tr>\n",
              "    <tr>\n",
              "      <th>3</th>\n",
              "      <td>1</td>\n",
              "      <td>10</td>\n",
              "      <td>[95.6, 44.6]</td>\n",
              "      <td>NaN</td>\n",
              "      <td>Bethany Mead</td>\n",
              "      <td>From Throw In</td>\n",
              "      <td>Arsenal WFC</td>\n",
              "      <td>Center Forward</td>\n",
              "      <td>0.020819</td>\n",
              "      <td>Normal</td>\n",
              "      <td>Right Foot</td>\n",
              "      <td>Open Play</td>\n",
              "      <td>Off T</td>\n",
              "      <td>False</td>\n",
              "    </tr>\n",
              "    <tr>\n",
              "      <th>4</th>\n",
              "      <td>1</td>\n",
              "      <td>14</td>\n",
              "      <td>[111.0, 33.7]</td>\n",
              "      <td>NaN</td>\n",
              "      <td>Leah Williamson</td>\n",
              "      <td>From Corner</td>\n",
              "      <td>Arsenal WFC</td>\n",
              "      <td>Right Center Back</td>\n",
              "      <td>0.112665</td>\n",
              "      <td>Half Volley</td>\n",
              "      <td>Left Foot</td>\n",
              "      <td>Open Play</td>\n",
              "      <td>Off T</td>\n",
              "      <td>True</td>\n",
              "    </tr>\n",
              "  </tbody>\n",
              "</table>\n",
              "</div>\n",
              "      <button class=\"colab-df-convert\" onclick=\"convertToInteractive('df-abd35ed6-85dd-4ef7-b5df-667d6721bd41')\"\n",
              "              title=\"Convert this dataframe to an interactive table.\"\n",
              "              style=\"display:none;\">\n",
              "        \n",
              "  <svg xmlns=\"http://www.w3.org/2000/svg\" height=\"24px\"viewBox=\"0 0 24 24\"\n",
              "       width=\"24px\">\n",
              "    <path d=\"M0 0h24v24H0V0z\" fill=\"none\"/>\n",
              "    <path d=\"M18.56 5.44l.94 2.06.94-2.06 2.06-.94-2.06-.94-.94-2.06-.94 2.06-2.06.94zm-11 1L8.5 8.5l.94-2.06 2.06-.94-2.06-.94L8.5 2.5l-.94 2.06-2.06.94zm10 10l.94 2.06.94-2.06 2.06-.94-2.06-.94-.94-2.06-.94 2.06-2.06.94z\"/><path d=\"M17.41 7.96l-1.37-1.37c-.4-.4-.92-.59-1.43-.59-.52 0-1.04.2-1.43.59L10.3 9.45l-7.72 7.72c-.78.78-.78 2.05 0 2.83L4 21.41c.39.39.9.59 1.41.59.51 0 1.02-.2 1.41-.59l7.78-7.78 2.81-2.81c.8-.78.8-2.07 0-2.86zM5.41 20L4 18.59l7.72-7.72 1.47 1.35L5.41 20z\"/>\n",
              "  </svg>\n",
              "      </button>\n",
              "      \n",
              "  <style>\n",
              "    .colab-df-container {\n",
              "      display:flex;\n",
              "      flex-wrap:wrap;\n",
              "      gap: 12px;\n",
              "    }\n",
              "\n",
              "    .colab-df-convert {\n",
              "      background-color: #E8F0FE;\n",
              "      border: none;\n",
              "      border-radius: 50%;\n",
              "      cursor: pointer;\n",
              "      display: none;\n",
              "      fill: #1967D2;\n",
              "      height: 32px;\n",
              "      padding: 0 0 0 0;\n",
              "      width: 32px;\n",
              "    }\n",
              "\n",
              "    .colab-df-convert:hover {\n",
              "      background-color: #E2EBFA;\n",
              "      box-shadow: 0px 1px 2px rgba(60, 64, 67, 0.3), 0px 1px 3px 1px rgba(60, 64, 67, 0.15);\n",
              "      fill: #174EA6;\n",
              "    }\n",
              "\n",
              "    [theme=dark] .colab-df-convert {\n",
              "      background-color: #3B4455;\n",
              "      fill: #D2E3FC;\n",
              "    }\n",
              "\n",
              "    [theme=dark] .colab-df-convert:hover {\n",
              "      background-color: #434B5C;\n",
              "      box-shadow: 0px 1px 3px 1px rgba(0, 0, 0, 0.15);\n",
              "      filter: drop-shadow(0px 1px 2px rgba(0, 0, 0, 0.3));\n",
              "      fill: #FFFFFF;\n",
              "    }\n",
              "  </style>\n",
              "\n",
              "      <script>\n",
              "        const buttonEl =\n",
              "          document.querySelector('#df-abd35ed6-85dd-4ef7-b5df-667d6721bd41 button.colab-df-convert');\n",
              "        buttonEl.style.display =\n",
              "          google.colab.kernel.accessAllowed ? 'block' : 'none';\n",
              "\n",
              "        async function convertToInteractive(key) {\n",
              "          const element = document.querySelector('#df-abd35ed6-85dd-4ef7-b5df-667d6721bd41');\n",
              "          const dataTable =\n",
              "            await google.colab.kernel.invokeFunction('convertToInteractive',\n",
              "                                                     [key], {});\n",
              "          if (!dataTable) return;\n",
              "\n",
              "          const docLinkHtml = 'Like what you see? Visit the ' +\n",
              "            '<a target=\"_blank\" href=https://colab.research.google.com/notebooks/data_table.ipynb>data table notebook</a>'\n",
              "            + ' to learn more about interactive tables.';\n",
              "          element.innerHTML = '';\n",
              "          dataTable['output_type'] = 'display_data';\n",
              "          await google.colab.output.renderOutput(dataTable, element);\n",
              "          const docLink = document.createElement('div');\n",
              "          docLink.innerHTML = docLinkHtml;\n",
              "          element.appendChild(docLink);\n",
              "        }\n",
              "      </script>\n",
              "    </div>\n",
              "  </div>\n",
              "  "
            ],
            "text/plain": [
              "   period  minute       location  under_pressure       player_name  \\\n",
              "0       1       1  [100.6, 54.6]             NaN      Stine Larsen   \n",
              "1       1       5  [109.4, 43.0]             NaN  Vivianne Miedema   \n",
              "2       1       6   [95.6, 38.9]             NaN        Jill Roord   \n",
              "3       1      10   [95.6, 44.6]             NaN      Bethany Mead   \n",
              "4       1      14  [111.0, 33.7]             NaN   Leah Williamson   \n",
              "\n",
              "  pattern_of_play         team       player_position  statsbomb_xg  \\\n",
              "0     From Keeper  Aston Villa   Left Center Forward      0.037459   \n",
              "1     From Corner  Arsenal WFC             Left Wing      0.026655   \n",
              "2   From Throw In  Arsenal WFC  Left Center Midfield      0.034884   \n",
              "3   From Throw In  Arsenal WFC        Center Forward      0.020819   \n",
              "4     From Corner  Arsenal WFC     Right Center Back      0.112665   \n",
              "\n",
              "     technique   body_part       tipe  outcome  first_time  \n",
              "0       Normal   Left Foot  Open Play  Blocked       False  \n",
              "1       Normal        Head  Open Play  Wayward       False  \n",
              "2       Normal  Right Foot  Open Play  Blocked       False  \n",
              "3       Normal  Right Foot  Open Play    Off T       False  \n",
              "4  Half Volley   Left Foot  Open Play    Off T        True  "
            ]
          },
          "metadata": {},
          "execution_count": 6
        }
      ]
    },
    {
      "cell_type": "markdown",
      "source": [
        "De acuerdo a la documentación y a lo analizado en el notebook anterior debemos transformar la columna `under_pressure`, cambiando los valores NaN por un $0$\n",
        "el cual interpretaremos como un False\n"
      ],
      "metadata": {
        "id": "2U5lY4FkNT0F"
      }
    },
    {
      "cell_type": "code",
      "source": [
        "all_shots['under_pressure'] = all_shots['under_pressure'].replace(np.nan, 0)"
      ],
      "metadata": {
        "id": "IHaabbfqPTRT"
      },
      "execution_count": 7,
      "outputs": []
    },
    {
      "cell_type": "code",
      "source": [
        "all_shots['under_pressure'].value_counts()"
      ],
      "metadata": {
        "colab": {
          "base_uri": "https://localhost:8080/"
        },
        "id": "z5H9gaemPh2K",
        "outputId": "0717fbb3-d9b2-4611-a8fe-4c5669fd3cf4"
      },
      "execution_count": 8,
      "outputs": [
        {
          "output_type": "execute_result",
          "data": {
            "text/plain": [
              "0.0    7591\n",
              "1.0    1771\n",
              "Name: under_pressure, dtype: int64"
            ]
          },
          "metadata": {},
          "execution_count": 8
        }
      ]
    },
    {
      "cell_type": "markdown",
      "source": [
        "De la columna `outcome` lo único que nos interesa es si el resultado es gol o no, entonces transformemos los valores a $0$ y $1$. Tomando el valor de $1$ como gol y $0$ como tiro fallado"
      ],
      "metadata": {
        "id": "MViFsmUVQd1_"
      }
    },
    {
      "cell_type": "code",
      "source": [
        "all_shots['outcome'].value_counts()"
      ],
      "metadata": {
        "colab": {
          "base_uri": "https://localhost:8080/"
        },
        "id": "yZ9VzBO_nKn3",
        "outputId": "e18e2273-5f14-4676-ec09-8538cd08edfc"
      },
      "execution_count": 9,
      "outputs": [
        {
          "output_type": "execute_result",
          "data": {
            "text/plain": [
              "Off T               2923\n",
              "Blocked             2313\n",
              "Saved               2275\n",
              "Goal                1064\n",
              "Wayward              482\n",
              "Post                 217\n",
              "Saved Off Target      62\n",
              "Saved to Post         26\n",
              "Name: outcome, dtype: int64"
            ]
          },
          "metadata": {},
          "execution_count": 9
        }
      ]
    },
    {
      "cell_type": "code",
      "source": [
        "goal = [1 if x == 'Goal' else 0 for x in all_shots['outcome']]"
      ],
      "metadata": {
        "id": "pEaEeDV0QcLR"
      },
      "execution_count": 10,
      "outputs": []
    },
    {
      "cell_type": "code",
      "source": [
        "all_shots['goal']=goal"
      ],
      "metadata": {
        "id": "mFeY_TYCRS0M"
      },
      "execution_count": 11,
      "outputs": []
    },
    {
      "cell_type": "code",
      "source": [
        "all_shots['goal'].value_counts()"
      ],
      "metadata": {
        "colab": {
          "base_uri": "https://localhost:8080/"
        },
        "id": "lCPzEbXBReNG",
        "outputId": "d2100bf1-29de-4bcc-933a-9fba873bcece"
      },
      "execution_count": 12,
      "outputs": [
        {
          "output_type": "execute_result",
          "data": {
            "text/plain": [
              "0    8298\n",
              "1    1064\n",
              "Name: goal, dtype: int64"
            ]
          },
          "metadata": {},
          "execution_count": 12
        }
      ]
    },
    {
      "cell_type": "code",
      "source": [
        "#ahora podemos borrar la columna outcome\n",
        "all_shots = all_shots.drop('outcome', axis=1)"
      ],
      "metadata": {
        "id": "AnjfYn7qRrQp"
      },
      "execution_count": 13,
      "outputs": []
    },
    {
      "cell_type": "markdown",
      "source": [
        "Ahora vamos a crear dos columnas más una `location_x `con la coordenada x de `location`, y otra similar llamada `location_y`. Esto con la finalidad de realizar las gráficas un poco más fácil"
      ],
      "metadata": {
        "id": "27gcqP1wR5d2"
      }
    },
    {
      "cell_type": "code",
      "source": [
        "location_x=[]\n",
        "location_y=[]\n",
        "for fila in range(all_shots.shape[0]):\n",
        "  location_x.append(all_shots['location'][fila][0])\n",
        "  location_y.append(all_shots['location'][fila][1])"
      ],
      "metadata": {
        "id": "1vFckjTfR1KS"
      },
      "execution_count": 14,
      "outputs": []
    },
    {
      "cell_type": "code",
      "source": [
        "all_shots['location_x'] = location_x\n",
        "all_shots['location_y'] = location_y"
      ],
      "metadata": {
        "id": "5Tg6HyzyTMbi"
      },
      "execution_count": 15,
      "outputs": []
    },
    {
      "cell_type": "markdown",
      "source": [
        "Hasta el momento ya tenemos un dataset que puede resultar muy interesante para un aficionado al futbol. Por ejemplo, tomemos un equipo de la liga de Estados Unidos y visualicemos todos los tiros que realizo en la temporada que tenemos disponible."
      ],
      "metadata": {
        "id": "fp9sUD9mThAr"
      }
    },
    {
      "cell_type": "code",
      "source": [
        "#tomemos al equipo de los Portland Thorns\n",
        "Portland=all_shots[all_shots['team']=='Portland Thorns']\n",
        "\n",
        "pitch = Pitch(pitch_color='#22312b', line_color='#c7d5cc')  \n",
        "fig, ax = pitch.draw()\n",
        "scatter=plt.scatter(Portland['location_x'], Portland['location_y'], c=Portland['goal'], cmap='spring', label=Portland['goal'], alpha=0.5)\n",
        "plt.legend(handles=scatter.legend_elements()[0], labels=('Not Goal', 'Goal'), loc='upper left')\n",
        "plt.title('Tiros realizados por el equipo de Portland')\n",
        "plt.show()"
      ],
      "metadata": {
        "colab": {
          "base_uri": "https://localhost:8080/",
          "height": 297
        },
        "id": "iUax-20eUhsr",
        "outputId": "87f8316d-92d7-4ba6-89e2-2fe8432b7939"
      },
      "execution_count": 17,
      "outputs": [
        {
          "output_type": "display_data",
          "data": {
            "image/png": "[encoded data removed]",
            "text/plain": [
              "<Figure size 432x288 with 1 Axes>"
            ]
          },
          "metadata": {}
        }
      ]
    },
    {
      "cell_type": "markdown",
      "source": [
        "## Entendiendo nuestros datos y sacando nuevas features"
      ],
      "metadata": {
        "id": "b8VCsk_pXbGi"
      }
    },
    {
      "cell_type": "markdown",
      "source": [
        "Lo primero que podemos hacer es graficar el total de tiros y su resultado"
      ],
      "metadata": {
        "id": "6JoR35vNncvD"
      }
    },
    {
      "cell_type": "code",
      "source": [
        "sns.set_theme(style=\"darkgrid\")\n",
        "ax = sns.countplot(x=\"goal\", data=all_shots)\n",
        "plt.title('Resultado del total de tiros')\n",
        "plt.xticks([0, 1], ['Not Goal', 'Goal'])\n",
        "plt.show()"
      ],
      "metadata": {
        "colab": {
          "base_uri": "https://localhost:8080/",
          "height": 301
        },
        "id": "YJybTa6jn7px",
        "outputId": "98a4c3be-84e1-4600-82e3-f74ea44e753d"
      },
      "execution_count": 18,
      "outputs": [
        {
          "output_type": "display_data",
          "data": {
            "image/png": "[encoded data removed]",
            "text/plain": [
              "<Figure size 432x288 with 1 Axes>"
            ]
          },
          "metadata": {}
        }
      ]
    },
    {
      "cell_type": "markdown",
      "source": [
        "Podemos ver que los goles son resultados escasos de los tiros, algo que era de esperarse de acuerdo a la experiencia de ver partidos de fútbol."
      ],
      "metadata": {
        "id": "z1jfNzWwqOSw"
      }
    },
    {
      "cell_type": "markdown",
      "source": [
        "La siguiente pregunta natural es en qué sectores del campo es donde suceden la mayor parte de tiros, y la mayor parte de los goles"
      ],
      "metadata": {
        "id": "TXXnNeWerzVG"
      }
    },
    {
      "cell_type": "code",
      "source": [
        "flamingo_cmap = LinearSegmentedColormap.from_list(\"Flamingo - 10 colors\", ['#e3aca7', '#c03a1d'], N=10)"
      ],
      "metadata": {
        "id": "w5vugzUDWjrY"
      },
      "execution_count": 19,
      "outputs": []
    },
    {
      "cell_type": "code",
      "source": [
        "pitch = VerticalPitch(line_color='#000009', line_zorder=2, pitch_color='white')\n",
        "fig, ax = pitch.draw(figsize=(4.4, 6.4))\n",
        "hexmap = pitch.hexbin(all_shots['location_x'], all_shots['location_y'], ax=ax, edgecolors='#f4f4f4',\n",
        "                      gridsize=(8, 8), cmap=flamingo_cmap)\n",
        "plt.title('Distribución de la cantidad de tiros en el campo')\n",
        "plt.show()"
      ],
      "metadata": {
        "colab": {
          "base_uri": "https://localhost:8080/",
          "height": 406
        },
        "id": "w7WarYzCYj1Y",
        "outputId": "8f141335-0f46-4051-8169-c88d0f54ee08"
      },
      "execution_count": 20,
      "outputs": [
        {
          "output_type": "display_data",
          "data": {
            "image/png": "[encoded data removed]",
            "text/plain": [
              "<Figure size 316.8x460.8 with 1 Axes>"
            ]
          },
          "metadata": {}
        }
      ]
    },
    {
      "cell_type": "code",
      "source": [
        "goals = all_shots[all_shots['goal']==1]\n",
        "\n",
        "pitch = VerticalPitch(line_color='#000009', line_zorder=2, pitch_color='white')\n",
        "fig, ax = pitch.draw(figsize=(4.4, 6.4))\n",
        "hexmap = pitch.hexbin(goals['location_x'], goals['location_y'], ax=ax, edgecolors='#f4f4f4',\n",
        "                      gridsize=(8, 8), cmap=flamingo_cmap)\n",
        "plt.title('Distribución de la cantidad de goles en el campo')\n",
        "plt.show()"
      ],
      "metadata": {
        "colab": {
          "base_uri": "https://localhost:8080/",
          "height": 398
        },
        "id": "4thtdOsvY_NG",
        "outputId": "d6a4adeb-3bcd-4e78-9d2c-dfbb86e58d3f"
      },
      "execution_count": 21,
      "outputs": [
        {
          "output_type": "display_data",
          "data": {
            "image/png": "[encoded data removed]",
            "text/plain": [
              "<Figure size 316.8x460.8 with 1 Axes>"
            ]
          },
          "metadata": {}
        }
      ]
    },
    {
      "cell_type": "markdown",
      "source": [
        "Podemos observar que se realizan más tiros, y más gol, es entre más cerca se encuentre la jugada de la portería. Esto nos da una intuición de que la distancia debería ser un aspecto clave para nuestro modelo."
      ],
      "metadata": {
        "id": "v-6zuHjxaH_4"
      }
    },
    {
      "cell_type": "markdown",
      "source": [
        "Procedamos a calcular la distancia de cada uno de los tiros al centro de la portería, para saber las coordenadas de dicho puntos nos apoyamos de la documentación y concluimos que el centro de la portería se encuentra en las coordenadas $(120, 40)$"
      ],
      "metadata": {
        "id": "qjy6Tgv8SVGu"
      }
    },
    {
      "cell_type": "code",
      "source": [
        "def distance_two_points(point_one, point_two = (120, 40)):\n",
        "  return np.linalg.norm(np.array(point_one)-np.array(point_two))"
      ],
      "metadata": {
        "id": "CHFBOYAtZh95"
      },
      "execution_count": 22,
      "outputs": []
    },
    {
      "cell_type": "code",
      "source": [
        "all_shots['distance'] = all_shots['location'].apply(distance_two_points)"
      ],
      "metadata": {
        "id": "qw5tcBJ64ZWR"
      },
      "execution_count": 23,
      "outputs": []
    },
    {
      "cell_type": "code",
      "source": [
        "all_shots.head()"
      ],
      "metadata": {
        "colab": {
          "base_uri": "https://localhost:8080/",
          "height": 357
        },
        "id": "DHVxDBBW5KAK",
        "outputId": "a72ed416-455c-4783-d225-61fc63f2eba0"
      },
      "execution_count": 24,
      "outputs": [
        {
          "output_type": "execute_result",
          "data": {
            "text/html": [
              "\n",
              "  <div id=\"df-5b607a5f-24a2-4a38-9e4d-aa2265c30301\">\n",
              "    <div class=\"colab-df-container\">\n",
              "      <div>\n",
              "<style scoped>\n",
              "    .dataframe tbody tr th:only-of-type {\n",
              "        vertical-align: middle;\n",
              "    }\n",
              "\n",
              "    .dataframe tbody tr th {\n",
              "        vertical-align: top;\n",
              "    }\n",
              "\n",
              "    .dataframe thead th {\n",
              "        text-align: right;\n",
              "    }\n",
              "</style>\n",
              "<table border=\"1\" class=\"dataframe\">\n",
              "  <thead>\n",
              "    <tr style=\"text-align: right;\">\n",
              "      <th></th>\n",
              "      <th>period</th>\n",
              "      <th>minute</th>\n",
              "      <th>location</th>\n",
              "      <th>under_pressure</th>\n",
              "      <th>player_name</th>\n",
              "      <th>pattern_of_play</th>\n",
              "      <th>team</th>\n",
              "      <th>player_position</th>\n",
              "      <th>statsbomb_xg</th>\n",
              "      <th>technique</th>\n",
              "      <th>body_part</th>\n",
              "      <th>tipe</th>\n",
              "      <th>first_time</th>\n",
              "      <th>goal</th>\n",
              "      <th>location_x</th>\n",
              "      <th>location_y</th>\n",
              "      <th>distance</th>\n",
              "    </tr>\n",
              "  </thead>\n",
              "  <tbody>\n",
              "    <tr>\n",
              "      <th>0</th>\n",
              "      <td>1</td>\n",
              "      <td>1</td>\n",
              "      <td>[100.6, 54.6]</td>\n",
              "      <td>0.0</td>\n",
              "      <td>Stine Larsen</td>\n",
              "      <td>From Keeper</td>\n",
              "      <td>Aston Villa</td>\n",
              "      <td>Left Center Forward</td>\n",
              "      <td>0.037459</td>\n",
              "      <td>Normal</td>\n",
              "      <td>Left Foot</td>\n",
              "      <td>Open Play</td>\n",
              "      <td>False</td>\n",
              "      <td>0</td>\n",
              "      <td>100.6</td>\n",
              "      <td>54.6</td>\n",
              "      <td>24.280033</td>\n",
              "    </tr>\n",
              "    <tr>\n",
              "      <th>1</th>\n",
              "      <td>1</td>\n",
              "      <td>5</td>\n",
              "      <td>[109.4, 43.0]</td>\n",
              "      <td>0.0</td>\n",
              "      <td>Vivianne Miedema</td>\n",
              "      <td>From Corner</td>\n",
              "      <td>Arsenal WFC</td>\n",
              "      <td>Left Wing</td>\n",
              "      <td>0.026655</td>\n",
              "      <td>Normal</td>\n",
              "      <td>Head</td>\n",
              "      <td>Open Play</td>\n",
              "      <td>False</td>\n",
              "      <td>0</td>\n",
              "      <td>109.4</td>\n",
              "      <td>43.0</td>\n",
              "      <td>11.016351</td>\n",
              "    </tr>\n",
              "    <tr>\n",
              "      <th>2</th>\n",
              "      <td>1</td>\n",
              "      <td>6</td>\n",
              "      <td>[95.6, 38.9]</td>\n",
              "      <td>0.0</td>\n",
              "      <td>Jill Roord</td>\n",
              "      <td>From Throw In</td>\n",
              "      <td>Arsenal WFC</td>\n",
              "      <td>Left Center Midfield</td>\n",
              "      <td>0.034884</td>\n",
              "      <td>Normal</td>\n",
              "      <td>Right Foot</td>\n",
              "      <td>Open Play</td>\n",
              "      <td>False</td>\n",
              "      <td>0</td>\n",
              "      <td>95.6</td>\n",
              "      <td>38.9</td>\n",
              "      <td>24.424782</td>\n",
              "    </tr>\n",
              "    <tr>\n",
              "      <th>3</th>\n",
              "      <td>1</td>\n",
              "      <td>10</td>\n",
              "      <td>[95.6, 44.6]</td>\n",
              "      <td>0.0</td>\n",
              "      <td>Bethany Mead</td>\n",
              "      <td>From Throw In</td>\n",
              "      <td>Arsenal WFC</td>\n",
              "      <td>Center Forward</td>\n",
              "      <td>0.020819</td>\n",
              "      <td>Normal</td>\n",
              "      <td>Right Foot</td>\n",
              "      <td>Open Play</td>\n",
              "      <td>False</td>\n",
              "      <td>0</td>\n",
              "      <td>95.6</td>\n",
              "      <td>44.6</td>\n",
              "      <td>24.829821</td>\n",
              "    </tr>\n",
              "    <tr>\n",
              "      <th>4</th>\n",
              "      <td>1</td>\n",
              "      <td>14</td>\n",
              "      <td>[111.0, 33.7]</td>\n",
              "      <td>0.0</td>\n",
              "      <td>Leah Williamson</td>\n",
              "      <td>From Corner</td>\n",
              "      <td>Arsenal WFC</td>\n",
              "      <td>Right Center Back</td>\n",
              "      <td>0.112665</td>\n",
              "      <td>Half Volley</td>\n",
              "      <td>Left Foot</td>\n",
              "      <td>Open Play</td>\n",
              "      <td>True</td>\n",
              "      <td>0</td>\n",
              "      <td>111.0</td>\n",
              "      <td>33.7</td>\n",
              "      <td>10.985900</td>\n",
              "    </tr>\n",
              "  </tbody>\n",
              "</table>\n",
              "</div>\n",
              "      <button class=\"colab-df-convert\" onclick=\"convertToInteractive('df-5b607a5f-24a2-4a38-9e4d-aa2265c30301')\"\n",
              "              title=\"Convert this dataframe to an interactive table.\"\n",
              "              style=\"display:none;\">\n",
              "        \n",
              "  <svg xmlns=\"http://www.w3.org/2000/svg\" height=\"24px\"viewBox=\"0 0 24 24\"\n",
              "       width=\"24px\">\n",
              "    <path d=\"M0 0h24v24H0V0z\" fill=\"none\"/>\n",
              "    <path d=\"M18.56 5.44l.94 2.06.94-2.06 2.06-.94-2.06-.94-.94-2.06-.94 2.06-2.06.94zm-11 1L8.5 8.5l.94-2.06 2.06-.94-2.06-.94L8.5 2.5l-.94 2.06-2.06.94zm10 10l.94 2.06.94-2.06 2.06-.94-2.06-.94-.94-2.06-.94 2.06-2.06.94z\"/><path d=\"M17.41 7.96l-1.37-1.37c-.4-.4-.92-.59-1.43-.59-.52 0-1.04.2-1.43.59L10.3 9.45l-7.72 7.72c-.78.78-.78 2.05 0 2.83L4 21.41c.39.39.9.59 1.41.59.51 0 1.02-.2 1.41-.59l7.78-7.78 2.81-2.81c.8-.78.8-2.07 0-2.86zM5.41 20L4 18.59l7.72-7.72 1.47 1.35L5.41 20z\"/>\n",
              "  </svg>\n",
              "      </button>\n",
              "      \n",
              "  <style>\n",
              "    .colab-df-container {\n",
              "      display:flex;\n",
              "      flex-wrap:wrap;\n",
              "      gap: 12px;\n",
              "    }\n",
              "\n",
              "    .colab-df-convert {\n",
              "      background-color: #E8F0FE;\n",
              "      border: none;\n",
              "      border-radius: 50%;\n",
              "      cursor: pointer;\n",
              "      display: none;\n",
              "      fill: #1967D2;\n",
              "      height: 32px;\n",
              "      padding: 0 0 0 0;\n",
              "      width: 32px;\n",
              "    }\n",
              "\n",
              "    .colab-df-convert:hover {\n",
              "      background-color: #E2EBFA;\n",
              "      box-shadow: 0px 1px 2px rgba(60, 64, 67, 0.3), 0px 1px 3px 1px rgba(60, 64, 67, 0.15);\n",
              "      fill: #174EA6;\n",
              "    }\n",
              "\n",
              "    [theme=dark] .colab-df-convert {\n",
              "      background-color: #3B4455;\n",
              "      fill: #D2E3FC;\n",
              "    }\n",
              "\n",
              "    [theme=dark] .colab-df-convert:hover {\n",
              "      background-color: #434B5C;\n",
              "      box-shadow: 0px 1px 3px 1px rgba(0, 0, 0, 0.15);\n",
              "      filter: drop-shadow(0px 1px 2px rgba(0, 0, 0, 0.3));\n",
              "      fill: #FFFFFF;\n",
              "    }\n",
              "  </style>\n",
              "\n",
              "      <script>\n",
              "        const buttonEl =\n",
              "          document.querySelector('#df-5b607a5f-24a2-4a38-9e4d-aa2265c30301 button.colab-df-convert');\n",
              "        buttonEl.style.display =\n",
              "          google.colab.kernel.accessAllowed ? 'block' : 'none';\n",
              "\n",
              "        async function convertToInteractive(key) {\n",
              "          const element = document.querySelector('#df-5b607a5f-24a2-4a38-9e4d-aa2265c30301');\n",
              "          const dataTable =\n",
              "            await google.colab.kernel.invokeFunction('convertToInteractive',\n",
              "                                                     [key], {});\n",
              "          if (!dataTable) return;\n",
              "\n",
              "          const docLinkHtml = 'Like what you see? Visit the ' +\n",
              "            '<a target=\"_blank\" href=https://colab.research.google.com/notebooks/data_table.ipynb>data table notebook</a>'\n",
              "            + ' to learn more about interactive tables.';\n",
              "          element.innerHTML = '';\n",
              "          dataTable['output_type'] = 'display_data';\n",
              "          await google.colab.output.renderOutput(dataTable, element);\n",
              "          const docLink = document.createElement('div');\n",
              "          docLink.innerHTML = docLinkHtml;\n",
              "          element.appendChild(docLink);\n",
              "        }\n",
              "      </script>\n",
              "    </div>\n",
              "  </div>\n",
              "  "
            ],
            "text/plain": [
              "   period  minute       location  under_pressure       player_name  \\\n",
              "0       1       1  [100.6, 54.6]             0.0      Stine Larsen   \n",
              "1       1       5  [109.4, 43.0]             0.0  Vivianne Miedema   \n",
              "2       1       6   [95.6, 38.9]             0.0        Jill Roord   \n",
              "3       1      10   [95.6, 44.6]             0.0      Bethany Mead   \n",
              "4       1      14  [111.0, 33.7]             0.0   Leah Williamson   \n",
              "\n",
              "  pattern_of_play         team       player_position  statsbomb_xg  \\\n",
              "0     From Keeper  Aston Villa   Left Center Forward      0.037459   \n",
              "1     From Corner  Arsenal WFC             Left Wing      0.026655   \n",
              "2   From Throw In  Arsenal WFC  Left Center Midfield      0.034884   \n",
              "3   From Throw In  Arsenal WFC        Center Forward      0.020819   \n",
              "4     From Corner  Arsenal WFC     Right Center Back      0.112665   \n",
              "\n",
              "     technique   body_part       tipe  first_time  goal  location_x  \\\n",
              "0       Normal   Left Foot  Open Play       False     0       100.6   \n",
              "1       Normal        Head  Open Play       False     0       109.4   \n",
              "2       Normal  Right Foot  Open Play       False     0        95.6   \n",
              "3       Normal  Right Foot  Open Play       False     0        95.6   \n",
              "4  Half Volley   Left Foot  Open Play        True     0       111.0   \n",
              "\n",
              "   location_y   distance  \n",
              "0        54.6  24.280033  \n",
              "1        43.0  11.016351  \n",
              "2        38.9  24.424782  \n",
              "3        44.6  24.829821  \n",
              "4        33.7  10.985900  "
            ]
          },
          "metadata": {},
          "execution_count": 24
        }
      ]
    },
    {
      "cell_type": "markdown",
      "source": [
        "Procedamos a ver como influye la distancia en la distribución de los tiros y los goles"
      ],
      "metadata": {
        "id": "BIejSLloSdp1"
      }
    },
    {
      "cell_type": "code",
      "source": [
        "goals = all_shots[all_shots['goal']==1]"
      ],
      "metadata": {
        "id": "V6yvtlSsIA8g"
      },
      "execution_count": 25,
      "outputs": []
    },
    {
      "cell_type": "code",
      "source": [
        "sns.set_theme(style=\"darkgrid\")\n",
        "fig, axes = plt.subplots(1, 2, sharex=True, figsize=(10,5))\n",
        "sns.histplot(ax=axes[0], x=\"distance\", data=all_shots, binwidth=5)\n",
        "axes[0].set_title('Distribución de tiros x distancia')\n",
        "sns.histplot(ax=axes[1], x=\"distance\", data=goals, binwidth=5)\n",
        "axes[1].set_title('Distribución de goles x distancia')\n",
        "plt.show()"
      ],
      "metadata": {
        "colab": {
          "base_uri": "https://localhost:8080/",
          "height": 355
        },
        "id": "GoGboS1B5Uav",
        "outputId": "fb72cf3c-017f-4f05-d4fc-3542ce606ccd"
      },
      "execution_count": 26,
      "outputs": [
        {
          "output_type": "display_data",
          "data": {
            "image/png": "[encoded data removed]",
            "text/plain": [
              "<Figure size 720x360 with 2 Axes>"
            ]
          },
          "metadata": {}
        }
      ]
    },
    {
      "cell_type": "markdown",
      "source": [
        "Se puede observar a partir de estas gráficas que:\n",
        " * La mayoría de tiros ocurre de las 5 a las 20 yardas.\n",
        " * Es díficil que se pueda tirar dentro de las primeras 5 yardas\n",
        " * La mayoría de goles se produce de las 5 a las 15 yardas"
      ],
      "metadata": {
        "id": "qCu-UQLX7kxA"
      }
    },
    {
      "cell_type": "markdown",
      "source": [
        "De acuero a diversas fuentes una de las features relevantes aparte de la distancia es el ángulo de tiro.\n",
        "\n",
        "![shot_angle.png](data:image/png;base64,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)\n",
        "\n",
        "Para poder obtener este valor existen algunas fórmulas preestablecidas. Sin embargo, al usarlas para este dataset se obtienen resultados inconsistentes, por lo que podemos recurrir a la ley de cosenos"
      ],
      "metadata": {
        "id": "ZtBe8oOVL2eA"
      }
    },
    {
      "cell_type": "markdown",
      "source": [
        "Simplemente despejando el valor del ángulo de la ley de cosenos encontramos:\n",
        "\n",
        "$$angulo = arccos \\left( \\frac{a^2 + b^2 - 64}{2ab} \\right)$$\n",
        "\n",
        "donde $a$ es la distancia del punto de tiro a uno de los postes, $b$ es igual la distancia pero al poste restante y $64$ es el cuadrado del ancho de la porteria en yardas"
      ],
      "metadata": {
        "id": "iAEV7dy9ZuV6"
      }
    },
    {
      "cell_type": "code",
      "source": [
        "def angle(point):\n",
        "  ladouno = distance_two_points(point, (120, 36)) #(120, 36) coordenadas de un poste de la porteria\n",
        "  ladodos = distance_two_points(point, (120, 44)) #(120, 44) coordenas del otro post\n",
        "  return np.arccos((ladouno**2 + ladodos**2 - 64) / (2*ladouno*ladodos))"
      ],
      "metadata": {
        "id": "qJrbnMnb-1MH"
      },
      "execution_count": 27,
      "outputs": []
    },
    {
      "cell_type": "code",
      "source": [
        "all_shots['angle']=all_shots['location'].apply(angle)"
      ],
      "metadata": {
        "id": "vjAlWBSV_Q5d"
      },
      "execution_count": 28,
      "outputs": []
    },
    {
      "cell_type": "code",
      "source": [
        "goals = all_shots[all_shots['goal']==1]"
      ],
      "metadata": {
        "id": "48_pT2_jBKWw"
      },
      "execution_count": 29,
      "outputs": []
    },
    {
      "cell_type": "code",
      "source": [
        "fig, axes = plt.subplots(1, 2, sharex=True, figsize=(10,5))\n",
        "sns.histplot(ax=axes[0], x=\"angle\", data=all_shots)\n",
        "axes[0].set_title('Distribución de tiros por angulo')\n",
        "axes[0].set(xlabel='Angle(rad)', ylabel='Count')\n",
        "sns.boxplot(ax=axes[1], x='goal', y=\"angle\", data=all_shots)\n",
        "axes[1].set_title('angulo de tiro por resultado')\n",
        "axes[1].set(xlabel='1=Gol, 0-=Not Goal', ylabel='Angle(rad)')\n",
        "plt.show()"
      ],
      "metadata": {
        "colab": {
          "base_uri": "https://localhost:8080/",
          "height": 355
        },
        "id": "zSsXavrrAY2z",
        "outputId": "5f15319b-54a8-4238-a3b0-d06685b37e4f"
      },
      "execution_count": 30,
      "outputs": [
        {
          "output_type": "display_data",
          "data": {
            "image/png": "[encoded data removed]",
            "text/plain": [
              "<Figure size 720x360 with 2 Axes>"
            ]
          },
          "metadata": {}
        }
      ]
    },
    {
      "cell_type": "markdown",
      "source": [
        "Podemos notar que se han marcado goles a pesar de no tener ángulo de tiro, un ejemplo de esto podrían ser los goles olímpicos. \n",
        "\n",
        "También se puede observar que la mediana de los ángulo de los tiros fallados es menor a la mediana de ángulos de los tiros que terminan en gol."
      ],
      "metadata": {
        "id": "-4K7iSjRFATu"
      }
    },
    {
      "cell_type": "markdown",
      "source": [
        "Procedamos a ver la distribución de tiros a través del tiempo de juego"
      ],
      "metadata": {
        "id": "VLpW0CN7JAkG"
      }
    },
    {
      "cell_type": "code",
      "source": [
        "goals = all_shots[all_shots['goal']==1]"
      ],
      "metadata": {
        "id": "1HnJD3e1Bb2a"
      },
      "execution_count": 31,
      "outputs": []
    },
    {
      "cell_type": "code",
      "source": [
        "sns.displot(data=all_shots, x=\"minute\", hue=\"goal\")\n",
        "plt.title('Goles y tiros a través del tiempo del partido')\n",
        "plt.show()"
      ],
      "metadata": {
        "colab": {
          "base_uri": "https://localhost:8080/",
          "height": 381
        },
        "id": "Nx7JxonCKCPJ",
        "outputId": "909dabe0-62d7-4c24-9af7-df94e31b2e82"
      },
      "execution_count": 32,
      "outputs": [
        {
          "output_type": "display_data",
          "data": {
            "image/png": "[encoded data removed]",
            "text/plain": [
              "<Figure size 406.6x360 with 1 Axes>"
            ]
          },
          "metadata": {}
        }
      ]
    },
    {
      "cell_type": "markdown",
      "source": [
        "Uno se esperaba que cerca del final del partido fuera donde más tiros se efectuaran debido a intentar ganar o empatar 'de último minuto', cosa que no sucede para los datos analizados de estos partidos"
      ],
      "metadata": {
        "id": "gnvanzwZNZSC"
      }
    },
    {
      "cell_type": "markdown",
      "source": [
        "## Entendiendo las variables categóricas"
      ],
      "metadata": {
        "id": "4e51R6HyTuxd"
      }
    },
    {
      "cell_type": "markdown",
      "source": [
        "Empecemos por analizar que tanto influye la parte del cuerpo con la que se realiza el tiro."
      ],
      "metadata": {
        "id": "eJWPYiyjOO2y"
      }
    },
    {
      "cell_type": "code",
      "source": [
        "sns.displot(data=all_shots, x=\"body_part\", hue=\"goal\")\n",
        "plt.title('Proporción de tiros y goles por parte del cuerpo')\n",
        "plt.show()"
      ],
      "metadata": {
        "colab": {
          "base_uri": "https://localhost:8080/",
          "height": 378
        },
        "id": "AQVNc5DKKieE",
        "outputId": "b8a7b8c8-a7c9-487b-f005-35a34004857e"
      },
      "execution_count": 33,
      "outputs": [
        {
          "output_type": "display_data",
          "data": {
            "image/png": "[encoded data removed]",
            "text/plain": [
              "<Figure size 406.6x360 with 1 Axes>"
            ]
          },
          "metadata": {}
        }
      ]
    },
    {
      "cell_type": "markdown",
      "source": [
        "Podemos observar que es difícil que se remate con una parte del cuerpo que no sean los pies o la cabeza, de ahí los 'remates con la cabeza' son los que menos suceden y como era de esperarse la mayoría de los tiros se hacen con el pie derecho."
      ],
      "metadata": {
        "id": "xJZgLtnYRLIf"
      }
    },
    {
      "cell_type": "markdown",
      "source": [
        "La variable `tipe` especifica el tipo de tiro, de estos dos valores son muy relavantes:  `Penalty` y `Free Kick` que generalmente son consideradas dos situaciones de peligro. "
      ],
      "metadata": {
        "id": "f2UPMM8HSN1K"
      }
    },
    {
      "cell_type": "code",
      "source": [
        "all_shots[all_shots['tipe']=='Penalty']['goal'].value_counts()"
      ],
      "metadata": {
        "colab": {
          "base_uri": "https://localhost:8080/"
        },
        "id": "tXO7lUPIXghv",
        "outputId": "25b5f56a-8506-49c8-9aab-278dd5afbd8c"
      },
      "execution_count": 34,
      "outputs": [
        {
          "output_type": "execute_result",
          "data": {
            "text/plain": [
              "1    65\n",
              "0    24\n",
              "Name: goal, dtype: int64"
            ]
          },
          "metadata": {},
          "execution_count": 34
        }
      ]
    },
    {
      "cell_type": "markdown",
      "source": [
        "Así la probabilidad de marcar un gol dado que el tipo de tiro es un penal es de\n",
        "\n",
        "$$P(gol) = \\frac{65}{65+24}=0.73$$\n",
        "\n",
        "Por lo que dado un penal, existe una alta probabilidad de que termine en gol, lo cual confirma algo obvio."
      ],
      "metadata": {
        "id": "Y2G1QZtCY3sU"
      }
    },
    {
      "cell_type": "code",
      "source": [
        "all_shots[all_shots['tipe']=='Free Kick']['goal'].value_counts()"
      ],
      "metadata": {
        "colab": {
          "base_uri": "https://localhost:8080/"
        },
        "id": "JZIZIOqaZXGU",
        "outputId": "eadadca9-967f-40dc-e897-cf8ae9a103af"
      },
      "execution_count": 35,
      "outputs": [
        {
          "output_type": "execute_result",
          "data": {
            "text/plain": [
              "0    259\n",
              "1     26\n",
              "Name: goal, dtype: int64"
            ]
          },
          "metadata": {},
          "execution_count": 35
        }
      ]
    },
    {
      "cell_type": "markdown",
      "source": [
        "La probabilidad de marcar un gol dado que el tiro proviene directo de un tiro libre es de\n",
        "\n",
        "$$P(gol) = \\frac{26}{26+259}=0.09$$\n",
        "\n",
        "Lo cual quiere decir que es difícil marcar desde un tiro libre."
      ],
      "metadata": {
        "id": "NwTh1OKkZl9r"
      }
    },
    {
      "cell_type": "code",
      "source": [
        "ax=sns.displot(data=all_shots, x=\"under_pressure\", hue=\"goal\")\n",
        "plt.title('Proporción de tiros y goles dependiendo de si existía presión')\n",
        "ax.set(xlabel='0: sin presión, 1: con presión')\n",
        "plt.show()"
      ],
      "metadata": {
        "colab": {
          "base_uri": "https://localhost:8080/",
          "height": 378
        },
        "id": "pRO4_TbxldAQ",
        "outputId": "ceedfcf6-6a01-458f-bbc4-006bbc321664"
      },
      "execution_count": 36,
      "outputs": [
        {
          "output_type": "display_data",
          "data": {
            "image/png": "[encoded data removed]",
            "text/plain": [
              "<Figure size 406.6x360 with 1 Axes>"
            ]
          },
          "metadata": {}
        }
      ]
    },
    {
      "cell_type": "markdown",
      "source": [
        "Podemos observar que no hay una diferencia significativa entre las proporciones de tiros fallados con los goles dependiendo si existe presión o no a la hora del tiro."
      ],
      "metadata": {
        "id": "AQdMz3YroFFC"
      }
    },
    {
      "cell_type": "markdown",
      "source": [
        "Ahora visualicemos los tiros y goles por el patrón de la jugada y luego por la técnica de tiro"
      ],
      "metadata": {
        "id": "eD72sZS7qp0k"
      }
    },
    {
      "cell_type": "code",
      "source": [
        "sns.displot(data=all_shots, x=\"pattern_of_play\", hue=\"goal\")\n",
        "plt.title('Proporción de tiros y goles por el patrón de la jugada')\n",
        "plt.xticks(rotation=90)\n",
        "plt.show()"
      ],
      "metadata": {
        "colab": {
          "base_uri": "https://localhost:8080/",
          "height": 453
        },
        "id": "kxBAEPtgpIHV",
        "outputId": "395572d4-c910-43ee-9626-169f67916578"
      },
      "execution_count": 38,
      "outputs": [
        {
          "output_type": "display_data",
          "data": {
            "image/png": "[encoded data removed]",
            "text/plain": [
              "<Figure size 406.6x360 with 1 Axes>"
            ]
          },
          "metadata": {}
        }
      ]
    },
    {
      "cell_type": "markdown",
      "source": [
        "Podemos ver en el patrón de jugada donde hay más goles que tiros es en 'Other' aunque son muy pocos tiros los que provienen de este patrón."
      ],
      "metadata": {
        "id": "5RfiPfWzuT-7"
      }
    },
    {
      "cell_type": "markdown",
      "source": [
        "Por último observemos la distribución de tiros y goles dependiendo de si el tiro fue realizado de primer toque o no"
      ],
      "metadata": {
        "id": "l4Ux14zTGXgY"
      }
    },
    {
      "cell_type": "code",
      "source": [
        "all_shots['first_time'] = all_shots['first_time'].replace({True: 1, False: 0})"
      ],
      "metadata": {
        "id": "zrswAMjMGWvd"
      },
      "execution_count": 40,
      "outputs": []
    },
    {
      "cell_type": "code",
      "source": [
        "sns.displot(data=all_shots, x=\"first_time\", hue=\"goal\")\n",
        "plt.title('Proporción de tiros y goles por el patrón de la jugada')\n",
        "plt.xticks(rotation=90)\n",
        "plt.show()"
      ],
      "metadata": {
        "colab": {
          "base_uri": "https://localhost:8080/",
          "height": 388
        },
        "id": "GLEQcFRhF_ZS",
        "outputId": "e7f96431-22b7-4356-c96f-1dbf1f77740b"
      },
      "execution_count": 41,
      "outputs": [
        {
          "output_type": "display_data",
          "data": {
            "image/png": "[encoded data removed]",
            "text/plain": [
              "<Figure size 406.6x360 with 1 Axes>"
            ]
          },
          "metadata": {}
        }
      ]
    },
    {
      "cell_type": "markdown",
      "source": [
        "Una vez que hemos realizado visualizaciones, transformaciones y el análisis podemos pasar a la realización de nuestro modelo para los goles esperados. Así que guardemos nuestro dataset para poder usarlo en nuestro siguiente notebook"
      ],
      "metadata": {
        "id": "IOg4YYwsseK9"
      }
    },
    {
      "cell_type": "code",
      "source": [
        "all_shots.to_csv('shots_limpieza.csv')"
      ],
      "metadata": {
        "id": "_t5Fj7bbv8se"
      },
      "execution_count": 42,
      "outputs": []
    }
  ]
}