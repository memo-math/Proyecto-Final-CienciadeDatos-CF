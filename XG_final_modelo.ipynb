{
  "nbformat": 4,
  "nbformat_minor": 0,
  "metadata": {
    "colab": {
      "name": "XG_final_modelo.ipynb",
      "provenance": [],
      "collapsed_sections": [],
      "authorship_tag": "ABX9TyNOBCiuzy9KpOd1WJ8NxopZ",
      "include_colab_link": true
    },
    "kernelspec": {
      "name": "python3",
      "display_name": "Python 3"
    },
    "language_info": {
      "name": "python"
    }
  },
  "cells": [
    {
      "cell_type": "markdown",
      "metadata": {
        "id": "view-in-github",
        "colab_type": "text"
      },
      "source": [
        "<a href=\"https://colab.research.google.com/github/memo-math/Proyecto-Final-CienciadeDatos-CF/blob/main/XG_final_modelo.ipynb\" target=\"_parent\"><img src=\"https://colab.research.google.com/assets/colab-badge.svg\" alt=\"Open In Colab\"/></a>"
      ]
    },
    {
      "cell_type": "markdown",
      "source": [
        "# Implementación del modelo"
      ],
      "metadata": {
        "id": "-rECQjn9H8PI"
      }
    },
    {
      "cell_type": "code",
      "source": [
        "#Empecemos cargando las librerías necesarias\n",
        "import numpy as np\n",
        "import pandas as pd\n",
        "from sklearn.preprocessing import OneHotEncoder\n",
        "from sklearn.preprocessing import RobustScaler\n",
        "from sklearn.preprocessing import MinMaxScaler\n",
        "from sklearn.model_selection import train_test_split\n",
        "from sklearn.model_selection import GridSearchCV\n",
        "from sklearn.model_selection import RandomizedSearchCV\n",
        "from sklearn.linear_model import LogisticRegression\n",
        "from sklearn.ensemble import RandomForestClassifier\n",
        "from sklearn.metrics import ConfusionMatrixDisplay\n",
        "from sklearn.metrics import recall_score\n",
        "from sklearn.metrics import RocCurveDisplay"
      ],
      "metadata": {
        "id": "OX-5Oo5n02Gx"
      },
      "execution_count": 1,
      "outputs": []
    },
    {
      "cell_type": "code",
      "execution_count": 2,
      "metadata": {
        "colab": {
          "base_uri": "https://localhost:8080/",
          "height": 374
        },
        "id": "0fKFC7vbzuSS",
        "outputId": "be5895ca-cc61-4493-87a3-7d86a20788c3"
      },
      "outputs": [
        {
          "output_type": "execute_result",
          "data": {
            "text/html": [
              "\n",
              "  <div id=\"df-38b3624a-933b-445a-9e0c-24e6203f7703\">\n",
              "    <div class=\"colab-df-container\">\n",
              "      <div>\n",
              "<style scoped>\n",
              "    .dataframe tbody tr th:only-of-type {\n",
              "        vertical-align: middle;\n",
              "    }\n",
              "\n",
              "    .dataframe tbody tr th {\n",
              "        vertical-align: top;\n",
              "    }\n",
              "\n",
              "    .dataframe thead th {\n",
              "        text-align: right;\n",
              "    }\n",
              "</style>\n",
              "<table border=\"1\" class=\"dataframe\">\n",
              "  <thead>\n",
              "    <tr style=\"text-align: right;\">\n",
              "      <th></th>\n",
              "      <th>Unnamed: 0</th>\n",
              "      <th>period</th>\n",
              "      <th>minute</th>\n",
              "      <th>location</th>\n",
              "      <th>under_pressure</th>\n",
              "      <th>player_name</th>\n",
              "      <th>pattern_of_play</th>\n",
              "      <th>team</th>\n",
              "      <th>player_position</th>\n",
              "      <th>statsbomb_xg</th>\n",
              "      <th>technique</th>\n",
              "      <th>body_part</th>\n",
              "      <th>tipe</th>\n",
              "      <th>first_time</th>\n",
              "      <th>goal</th>\n",
              "      <th>location_x</th>\n",
              "      <th>location_y</th>\n",
              "      <th>distance</th>\n",
              "      <th>angle</th>\n",
              "    </tr>\n",
              "  </thead>\n",
              "  <tbody>\n",
              "    <tr>\n",
              "      <th>0</th>\n",
              "      <td>0</td>\n",
              "      <td>1</td>\n",
              "      <td>1</td>\n",
              "      <td>[100.6, 54.6]</td>\n",
              "      <td>0.0</td>\n",
              "      <td>Stine Larsen</td>\n",
              "      <td>From Keeper</td>\n",
              "      <td>Aston Villa</td>\n",
              "      <td>Left Center Forward</td>\n",
              "      <td>0.037459</td>\n",
              "      <td>Normal</td>\n",
              "      <td>Left Foot</td>\n",
              "      <td>Open Play</td>\n",
              "      <td>0</td>\n",
              "      <td>0</td>\n",
              "      <td>100.6</td>\n",
              "      <td>54.6</td>\n",
              "      <td>24.280033</td>\n",
              "      <td>0.264280</td>\n",
              "    </tr>\n",
              "    <tr>\n",
              "      <th>1</th>\n",
              "      <td>1</td>\n",
              "      <td>1</td>\n",
              "      <td>5</td>\n",
              "      <td>[109.4, 43.0]</td>\n",
              "      <td>0.0</td>\n",
              "      <td>Vivianne Miedema</td>\n",
              "      <td>From Corner</td>\n",
              "      <td>Arsenal WFC</td>\n",
              "      <td>Left Wing</td>\n",
              "      <td>0.026655</td>\n",
              "      <td>Normal</td>\n",
              "      <td>Head</td>\n",
              "      <td>Open Play</td>\n",
              "      <td>0</td>\n",
              "      <td>0</td>\n",
              "      <td>109.4</td>\n",
              "      <td>43.0</td>\n",
              "      <td>11.016351</td>\n",
              "      <td>0.677697</td>\n",
              "    </tr>\n",
              "    <tr>\n",
              "      <th>2</th>\n",
              "      <td>2</td>\n",
              "      <td>1</td>\n",
              "      <td>6</td>\n",
              "      <td>[95.6, 38.9]</td>\n",
              "      <td>0.0</td>\n",
              "      <td>Jill Roord</td>\n",
              "      <td>From Throw In</td>\n",
              "      <td>Arsenal WFC</td>\n",
              "      <td>Left Center Midfield</td>\n",
              "      <td>0.034884</td>\n",
              "      <td>Normal</td>\n",
              "      <td>Right Foot</td>\n",
              "      <td>Open Play</td>\n",
              "      <td>0</td>\n",
              "      <td>0</td>\n",
              "      <td>95.6</td>\n",
              "      <td>38.9</td>\n",
              "      <td>24.424782</td>\n",
              "      <td>0.324347</td>\n",
              "    </tr>\n",
              "    <tr>\n",
              "      <th>3</th>\n",
              "      <td>3</td>\n",
              "      <td>1</td>\n",
              "      <td>10</td>\n",
              "      <td>[95.6, 44.6]</td>\n",
              "      <td>0.0</td>\n",
              "      <td>Bethany Mead</td>\n",
              "      <td>From Throw In</td>\n",
              "      <td>Arsenal WFC</td>\n",
              "      <td>Center Forward</td>\n",
              "      <td>0.020819</td>\n",
              "      <td>Normal</td>\n",
              "      <td>Right Foot</td>\n",
              "      <td>Open Play</td>\n",
              "      <td>0</td>\n",
              "      <td>0</td>\n",
              "      <td>95.6</td>\n",
              "      <td>44.6</td>\n",
              "      <td>24.829821</td>\n",
              "      <td>0.314279</td>\n",
              "    </tr>\n",
              "    <tr>\n",
              "      <th>4</th>\n",
              "      <td>4</td>\n",
              "      <td>1</td>\n",
              "      <td>14</td>\n",
              "      <td>[111.0, 33.7]</td>\n",
              "      <td>0.0</td>\n",
              "      <td>Leah Williamson</td>\n",
              "      <td>From Corner</td>\n",
              "      <td>Arsenal WFC</td>\n",
              "      <td>Right Center Back</td>\n",
              "      <td>0.112665</td>\n",
              "      <td>Half Volley</td>\n",
              "      <td>Left Foot</td>\n",
              "      <td>Open Play</td>\n",
              "      <td>1</td>\n",
              "      <td>0</td>\n",
              "      <td>111.0</td>\n",
              "      <td>33.7</td>\n",
              "      <td>10.985900</td>\n",
              "      <td>0.602454</td>\n",
              "    </tr>\n",
              "  </tbody>\n",
              "</table>\n",
              "</div>\n",
              "      <button class=\"colab-df-convert\" onclick=\"convertToInteractive('df-38b3624a-933b-445a-9e0c-24e6203f7703')\"\n",
              "              title=\"Convert this dataframe to an interactive table.\"\n",
              "              style=\"display:none;\">\n",
              "        \n",
              "  <svg xmlns=\"http://www.w3.org/2000/svg\" height=\"24px\"viewBox=\"0 0 24 24\"\n",
              "       width=\"24px\">\n",
              "    <path d=\"M0 0h24v24H0V0z\" fill=\"none\"/>\n",
              "    <path d=\"M18.56 5.44l.94 2.06.94-2.06 2.06-.94-2.06-.94-.94-2.06-.94 2.06-2.06.94zm-11 1L8.5 8.5l.94-2.06 2.06-.94-2.06-.94L8.5 2.5l-.94 2.06-2.06.94zm10 10l.94 2.06.94-2.06 2.06-.94-2.06-.94-.94-2.06-.94 2.06-2.06.94z\"/><path d=\"M17.41 7.96l-1.37-1.37c-.4-.4-.92-.59-1.43-.59-.52 0-1.04.2-1.43.59L10.3 9.45l-7.72 7.72c-.78.78-.78 2.05 0 2.83L4 21.41c.39.39.9.59 1.41.59.51 0 1.02-.2 1.41-.59l7.78-7.78 2.81-2.81c.8-.78.8-2.07 0-2.86zM5.41 20L4 18.59l7.72-7.72 1.47 1.35L5.41 20z\"/>\n",
              "  </svg>\n",
              "      </button>\n",
              "      \n",
              "  <style>\n",
              "    .colab-df-container {\n",
              "      display:flex;\n",
              "      flex-wrap:wrap;\n",
              "      gap: 12px;\n",
              "    }\n",
              "\n",
              "    .colab-df-convert {\n",
              "      background-color: #E8F0FE;\n",
              "      border: none;\n",
              "      border-radius: 50%;\n",
              "      cursor: pointer;\n",
              "      display: none;\n",
              "      fill: #1967D2;\n",
              "      height: 32px;\n",
              "      padding: 0 0 0 0;\n",
              "      width: 32px;\n",
              "    }\n",
              "\n",
              "    .colab-df-convert:hover {\n",
              "      background-color: #E2EBFA;\n",
              "      box-shadow: 0px 1px 2px rgba(60, 64, 67, 0.3), 0px 1px 3px 1px rgba(60, 64, 67, 0.15);\n",
              "      fill: #174EA6;\n",
              "    }\n",
              "\n",
              "    [theme=dark] .colab-df-convert {\n",
              "      background-color: #3B4455;\n",
              "      fill: #D2E3FC;\n",
              "    }\n",
              "\n",
              "    [theme=dark] .colab-df-convert:hover {\n",
              "      background-color: #434B5C;\n",
              "      box-shadow: 0px 1px 3px 1px rgba(0, 0, 0, 0.15);\n",
              "      filter: drop-shadow(0px 1px 2px rgba(0, 0, 0, 0.3));\n",
              "      fill: #FFFFFF;\n",
              "    }\n",
              "  </style>\n",
              "\n",
              "      <script>\n",
              "        const buttonEl =\n",
              "          document.querySelector('#df-38b3624a-933b-445a-9e0c-24e6203f7703 button.colab-df-convert');\n",
              "        buttonEl.style.display =\n",
              "          google.colab.kernel.accessAllowed ? 'block' : 'none';\n",
              "\n",
              "        async function convertToInteractive(key) {\n",
              "          const element = document.querySelector('#df-38b3624a-933b-445a-9e0c-24e6203f7703');\n",
              "          const dataTable =\n",
              "            await google.colab.kernel.invokeFunction('convertToInteractive',\n",
              "                                                     [key], {});\n",
              "          if (!dataTable) return;\n",
              "\n",
              "          const docLinkHtml = 'Like what you see? Visit the ' +\n",
              "            '<a target=\"_blank\" href=https://colab.research.google.com/notebooks/data_table.ipynb>data table notebook</a>'\n",
              "            + ' to learn more about interactive tables.';\n",
              "          element.innerHTML = '';\n",
              "          dataTable['output_type'] = 'display_data';\n",
              "          await google.colab.output.renderOutput(dataTable, element);\n",
              "          const docLink = document.createElement('div');\n",
              "          docLink.innerHTML = docLinkHtml;\n",
              "          element.appendChild(docLink);\n",
              "        }\n",
              "      </script>\n",
              "    </div>\n",
              "  </div>\n",
              "  "
            ],
            "text/plain": [
              "   Unnamed: 0  period  minute       location  under_pressure  \\\n",
              "0           0       1       1  [100.6, 54.6]             0.0   \n",
              "1           1       1       5  [109.4, 43.0]             0.0   \n",
              "2           2       1       6   [95.6, 38.9]             0.0   \n",
              "3           3       1      10   [95.6, 44.6]             0.0   \n",
              "4           4       1      14  [111.0, 33.7]             0.0   \n",
              "\n",
              "        player_name pattern_of_play         team       player_position  \\\n",
              "0      Stine Larsen     From Keeper  Aston Villa   Left Center Forward   \n",
              "1  Vivianne Miedema     From Corner  Arsenal WFC             Left Wing   \n",
              "2        Jill Roord   From Throw In  Arsenal WFC  Left Center Midfield   \n",
              "3      Bethany Mead   From Throw In  Arsenal WFC        Center Forward   \n",
              "4   Leah Williamson     From Corner  Arsenal WFC     Right Center Back   \n",
              "\n",
              "   statsbomb_xg    technique   body_part       tipe  first_time  goal  \\\n",
              "0      0.037459       Normal   Left Foot  Open Play           0     0   \n",
              "1      0.026655       Normal        Head  Open Play           0     0   \n",
              "2      0.034884       Normal  Right Foot  Open Play           0     0   \n",
              "3      0.020819       Normal  Right Foot  Open Play           0     0   \n",
              "4      0.112665  Half Volley   Left Foot  Open Play           1     0   \n",
              "\n",
              "   location_x  location_y   distance     angle  \n",
              "0       100.6        54.6  24.280033  0.264280  \n",
              "1       109.4        43.0  11.016351  0.677697  \n",
              "2        95.6        38.9  24.424782  0.324347  \n",
              "3        95.6        44.6  24.829821  0.314279  \n",
              "4       111.0        33.7  10.985900  0.602454  "
            ]
          },
          "metadata": {},
          "execution_count": 2
        }
      ],
      "source": [
        "all_shots = pd.read_csv('shots_limpieza.csv')\n",
        "all_shots.head()"
      ]
    },
    {
      "cell_type": "markdown",
      "source": [
        "Una vez que tenemos cargados los datos seleccionaremos las variables que formarán parte de nuestro modelo"
      ],
      "metadata": {
        "id": "h9JPieG_2kQK"
      }
    },
    {
      "cell_type": "code",
      "source": [
        "df_modelo = all_shots[['minute', 'pattern_of_play', 'technique', 'body_part', 'tipe', 'first_time', 'goal', 'distance', 'angle', 'under_pressure']]"
      ],
      "metadata": {
        "id": "lwX4Jgx71t9W"
      },
      "execution_count": 3,
      "outputs": []
    },
    {
      "cell_type": "markdown",
      "source": [
        "Sabemos que nuestras variables categóricas no pueden ser interpretadas así como están, por lo que aplicaremos one-hot encoding."
      ],
      "metadata": {
        "id": "ybv7Knba3uYs"
      }
    },
    {
      "cell_type": "code",
      "source": [
        "#Empezamos con la columna tipe\n",
        "df_modelo['tipe'].value_counts()"
      ],
      "metadata": {
        "colab": {
          "base_uri": "https://localhost:8080/"
        },
        "id": "BvVrqsPh3U1N",
        "outputId": "a1411052-fd52-4e57-8692-0e7a49d4b000"
      },
      "execution_count": 4,
      "outputs": [
        {
          "output_type": "execute_result",
          "data": {
            "text/plain": [
              "Open Play    8985\n",
              "Free Kick     285\n",
              "Penalty        89\n",
              "Corner          3\n",
              "Name: tipe, dtype: int64"
            ]
          },
          "metadata": {},
          "execution_count": 4
        }
      ]
    },
    {
      "cell_type": "code",
      "source": [
        "enc_tipe = OneHotEncoder(handle_unknown='ignore')\n",
        "enc_tipe_df = pd.DataFrame(enc_tipe.fit_transform(df_modelo[['tipe']]).toarray())\n",
        "enc_tipe_df.rename(columns={0: 'tipe0', 1: 'tipe1', 2:'tipe2', 3:'tipe3', 4:'tipe4'}, inplace=True)\n",
        "enc_tipe_df.head()"
      ],
      "metadata": {
        "id": "mZ4B8Cz74ope"
      },
      "execution_count": null,
      "outputs": []
    },
    {
      "cell_type": "code",
      "source": [
        "#Ahora unamos el dataframe enc_tipe_df con el df_modelo\n",
        "df_modelo = pd.concat([df_modelo, enc_tipe_df], axis=1)"
      ],
      "metadata": {
        "id": "nwVRG_-144Mq"
      },
      "execution_count": 6,
      "outputs": []
    },
    {
      "cell_type": "code",
      "source": [
        "#Continuemos con la columna body_part\n",
        "df_modelo['tipe'].value_counts()"
      ],
      "metadata": {
        "colab": {
          "base_uri": "https://localhost:8080/"
        },
        "id": "IiV4X_Oa5toB",
        "outputId": "ed3aa90b-59eb-4308-e377-4c9077f9e674"
      },
      "execution_count": 7,
      "outputs": [
        {
          "output_type": "execute_result",
          "data": {
            "text/plain": [
              "Open Play    8985\n",
              "Free Kick     285\n",
              "Penalty        89\n",
              "Corner          3\n",
              "Name: tipe, dtype: int64"
            ]
          },
          "metadata": {},
          "execution_count": 7
        }
      ]
    },
    {
      "cell_type": "code",
      "source": [
        "enc_body_part = OneHotEncoder(handle_unknown='ignore')\n",
        "enc_body_part_df = pd.DataFrame(enc_body_part.fit_transform(df_modelo[['body_part']]).toarray()) \n",
        "enc_body_part_df.rename(columns={0: 'bodypart0', 1: 'bodypart1', 2:'bodypart2', 3:'bodypart3'}, inplace=True)\n",
        "enc_body_part_df.head()"
      ],
      "metadata": {
        "id": "r8fF8gF-5Sx7"
      },
      "execution_count": null,
      "outputs": []
    },
    {
      "cell_type": "code",
      "source": [
        "#Unamos los dataframes\n",
        "df_modelo=pd.concat([df_modelo, enc_body_part_df], axis=1)"
      ],
      "metadata": {
        "id": "Od_7VRHE51vE"
      },
      "execution_count": 10,
      "outputs": []
    },
    {
      "cell_type": "code",
      "source": [
        "#Ahora transformemos la variable pattern_of_play\n",
        "df_modelo['pattern_of_play'].value_counts()"
      ],
      "metadata": {
        "colab": {
          "base_uri": "https://localhost:8080/"
        },
        "id": "LhmABEPT6Gs_",
        "outputId": "d2f6f918-0b98-4c62-e477-1e24c57b1cd7"
      },
      "execution_count": 11,
      "outputs": [
        {
          "output_type": "execute_result",
          "data": {
            "text/plain": [
              "Regular Play      3332\n",
              "From Throw In     1884\n",
              "From Corner       1593\n",
              "From Free Kick    1409\n",
              "From Counter       506\n",
              "From Goal Kick     317\n",
              "Other              123\n",
              "From Keeper        102\n",
              "From Kick Off       96\n",
              "Name: pattern_of_play, dtype: int64"
            ]
          },
          "metadata": {},
          "execution_count": 11
        }
      ]
    },
    {
      "cell_type": "code",
      "source": [
        "enc_jugada = OneHotEncoder(handle_unknown='ignore')\n",
        "enc_jugada_df = pd.DataFrame(enc_jugada.fit_transform(df_modelo[['pattern_of_play']]).toarray()) \n",
        "enc_jugada_df.rename(columns={0: 'play0', 1: 'play1', 2:'play2', 3:'play3', 4:'play4', 5:'play5', 6:'play6', 7:'play7', 8:'play8'}, inplace=True)\n",
        "enc_jugada_df.head()"
      ],
      "metadata": {
        "id": "vS4Tw0gK6ZIH"
      },
      "execution_count": null,
      "outputs": []
    },
    {
      "cell_type": "code",
      "source": [
        "#Unamos los datasets\n",
        "df_modelo=pd.concat([df_modelo, enc_jugada_df], axis=1)"
      ],
      "metadata": {
        "id": "FrS4NifM6lnD"
      },
      "execution_count": 13,
      "outputs": []
    },
    {
      "cell_type": "code",
      "source": [
        "df_modelo['technique'].value_counts()"
      ],
      "metadata": {
        "colab": {
          "base_uri": "https://localhost:8080/"
        },
        "id": "wfq99f3wIofJ",
        "outputId": "50c53108-de20-4baa-8ca3-ba09d63312a8"
      },
      "execution_count": 14,
      "outputs": [
        {
          "output_type": "execute_result",
          "data": {
            "text/plain": [
              "Normal           7735\n",
              "Half Volley       936\n",
              "Volley            534\n",
              "Lob                76\n",
              "Backheel           40\n",
              "Diving Header      22\n",
              "Overhead Kick      19\n",
              "Name: technique, dtype: int64"
            ]
          },
          "metadata": {},
          "execution_count": 14
        }
      ]
    },
    {
      "cell_type": "code",
      "source": [
        "#sigamos con la columna technique\n",
        "enc_technique = OneHotEncoder(handle_unknown='ignore')\n",
        "enc_technique_df = pd.DataFrame(enc_technique.fit_transform(df_modelo[['technique']]).toarray()) #cambiarle el nombre a este df muy mal nombrado\n",
        "enc_technique_df.rename(columns={0: 'technique0', 1: 'technique1', 2:'technique2', 3:'technique3', 4:'technique4', 5:'technique5', 6:'technique6'}, inplace=True)\n",
        "enc_technique_df.head()"
      ],
      "metadata": {
        "id": "4a1h2VBA6xSc"
      },
      "execution_count": null,
      "outputs": []
    },
    {
      "cell_type": "code",
      "source": [
        "df_modelo=pd.concat([df_modelo,enc_technique_df], axis=1)"
      ],
      "metadata": {
        "id": "1xtqi_IR7f4T"
      },
      "execution_count": 16,
      "outputs": []
    },
    {
      "cell_type": "markdown",
      "source": [
        "Procedemos a deshacernos de las variables categóricas a las cuales les acabamos de aplicar one-hot encoding"
      ],
      "metadata": {
        "id": "tO3aw87FLZIA"
      }
    },
    {
      "cell_type": "code",
      "source": [
        "df_modelo=df_modelo.drop(['pattern_of_play', 'technique', 'body_part', 'tipe'], axis=1)"
      ],
      "metadata": {
        "id": "AzQNMoKw7iQi"
      },
      "execution_count": 17,
      "outputs": []
    },
    {
      "cell_type": "markdown",
      "source": [
        "Ahora debemos escalar nuestras variables continuas. Para las variables `distance` y `angle` usaremos `RobustScaler()` debido a que cuando vimos su distribución cuentan con outliers, mientras que para la columna `minute` usaremos el `MinMaxScaler()`"
      ],
      "metadata": {
        "id": "TKVVXSWdLvv0"
      }
    },
    {
      "cell_type": "code",
      "source": [
        "scaler_distance = RobustScaler()\n",
        "scaler_distance.fit(df_modelo[['distance']])\n",
        "df_modelo['distance']=scaler_distance.transform(df_modelo[['distance']])\n",
        "\n",
        "scaler_angle = RobustScaler()\n",
        "scaler_angle.fit(df_modelo[['angle']])\n",
        "df_modelo['angle']=scaler_angle.transform(df_modelo[['angle']])\n",
        "\n",
        "scaler_minute = MinMaxScaler()\n",
        "scaler_minute.fit(df_modelo[['minute']])\n",
        "df_modelo['minute']=scaler_minute.transform(df_modelo[['minute']])"
      ],
      "metadata": {
        "id": "baBXIDTc9kXw"
      },
      "execution_count": 19,
      "outputs": []
    },
    {
      "cell_type": "markdown",
      "source": [
        "Antes de separar nuestro dataset en train y test veamos si existen valores faltantes"
      ],
      "metadata": {
        "id": "JjqvUE4AMr6V"
      }
    },
    {
      "cell_type": "code",
      "source": [
        "df_modelo.isna().sum()"
      ],
      "metadata": {
        "colab": {
          "base_uri": "https://localhost:8080/"
        },
        "id": "PZHnxdqSOKSN",
        "outputId": "a7a9b5cd-8b49-4d71-817f-b26a5178640c"
      },
      "execution_count": 20,
      "outputs": [
        {
          "output_type": "execute_result",
          "data": {
            "text/plain": [
              "minute            0\n",
              "first_time        0\n",
              "goal              0\n",
              "distance          0\n",
              "angle             2\n",
              "under_pressure    0\n",
              "tipe0             0\n",
              "tipe1             0\n",
              "tipe2             0\n",
              "tipe3             0\n",
              "bodypart0         0\n",
              "bodypart1         0\n",
              "bodypart2         0\n",
              "bodypart3         0\n",
              "play0             0\n",
              "play1             0\n",
              "play2             0\n",
              "play3             0\n",
              "play4             0\n",
              "play5             0\n",
              "play6             0\n",
              "play7             0\n",
              "play8             0\n",
              "technique0        0\n",
              "technique1        0\n",
              "technique2        0\n",
              "technique3        0\n",
              "technique4        0\n",
              "technique5        0\n",
              "technique6        0\n",
              "dtype: int64"
            ]
          },
          "metadata": {},
          "execution_count": 20
        }
      ]
    },
    {
      "cell_type": "markdown",
      "source": [
        "Como solo son dos valores podemos proceder a quitar estas observacionesd del dataset"
      ],
      "metadata": {
        "id": "r2EDwGgNNXuZ"
      }
    },
    {
      "cell_type": "code",
      "source": [
        "df_modelo=df_modelo.dropna()"
      ],
      "metadata": {
        "id": "KgK-o0MjOrM5"
      },
      "execution_count": 21,
      "outputs": []
    },
    {
      "cell_type": "markdown",
      "source": [
        "Dividamos el target del dataset, y luego separamos los datos de entrenamiento de los datos de prueba"
      ],
      "metadata": {
        "id": "HACuBv_vOIAb"
      }
    },
    {
      "cell_type": "code",
      "source": [
        "Y = df_modelo['goal']\n",
        "X = df_modelo.drop('goal', axis=1)\n",
        "\n",
        "x_train, x_test, y_train, y_test = train_test_split(X, Y, test_size=0.2, shuffle=True)"
      ],
      "metadata": {
        "id": "LJiGWfcTRlNE"
      },
      "execution_count": 22,
      "outputs": []
    },
    {
      "cell_type": "markdown",
      "source": [
        "Comenzaremos por implementar la regresión logística"
      ],
      "metadata": {
        "id": "bvvkJZohOXrW"
      }
    },
    {
      "cell_type": "code",
      "source": [
        "#definamos una grilla de los parámetros del modelo\n",
        "lr_grid = {\n",
        "    'max_iter': [200, 500, 1000],                      \n",
        "    'solver': ['newton-cg', 'lbfgs', 'liblinear', 'sag', 'saga'],                                       \n",
        "}\n",
        "#implementemos un gridsearchcv\n",
        "lrmodel_grid = GridSearchCV(estimator=LogisticRegression(), param_grid=lr_grid, verbose=1, cv=10)\n",
        "lrmodel_grid.fit(x_train, y_train)\n",
        "print(lrmodel_grid.best_estimator_)"
      ],
      "metadata": {
        "id": "r9XXqpt3TlSn",
        "colab": {
          "base_uri": "https://localhost:8080/"
        },
        "outputId": "ec39312f-1969-4187-ef36-07160ce219de"
      },
      "execution_count": 23,
      "outputs": [
        {
          "output_type": "stream",
          "name": "stdout",
          "text": [
            "Fitting 10 folds for each of 15 candidates, totalling 150 fits\n",
            "LogisticRegression(max_iter=200, solver='newton-cg')\n"
          ]
        }
      ]
    },
    {
      "cell_type": "markdown",
      "source": [
        "Una vez que ya tenemos nuestro modelo entrenado somos capaces de predecir la probabilidad con la que un tiro se convierte en gol. Por ejemplo, determinemos el xG de los tiros en `x_test`"
      ],
      "metadata": {
        "id": "sruqg1OJP2c3"
      }
    },
    {
      "cell_type": "code",
      "source": [
        "lrmodel_grid.predict_proba(x_test)[:4]"
      ],
      "metadata": {
        "colab": {
          "base_uri": "https://localhost:8080/"
        },
        "id": "unhQEwgeUtg7",
        "outputId": "868b0642-38e2-469f-de05-4af40e21c726"
      },
      "execution_count": 24,
      "outputs": [
        {
          "output_type": "execute_result",
          "data": {
            "text/plain": [
              "array([[0.91730018, 0.08269982],\n",
              "       [0.94904516, 0.05095484],\n",
              "       [0.97705265, 0.02294735],\n",
              "       [0.92093182, 0.07906818]])"
            ]
          },
          "metadata": {},
          "execution_count": 24
        }
      ]
    },
    {
      "cell_type": "markdown",
      "source": [
        "El método `.predict_proba` regresa la probabilidad de que el tiro pertenezca, en este caso, a la clase 0 y a la clase 1, respectivamente. El orden de las clases lo podemos encontrar en `self.classes_`"
      ],
      "metadata": {
        "id": "l7GGYG-ZQnfk"
      }
    },
    {
      "cell_type": "markdown",
      "source": [
        "Es momento de evaluar el desempeño de nuestro modelo, empezaremos obteniendo al matriz de confusión"
      ],
      "metadata": {
        "id": "Cq8C_NXTRyqH"
      }
    },
    {
      "cell_type": "code",
      "source": [
        "ConfusionMatrixDisplay.from_estimator(lrmodel_grid, x_test, y_test)"
      ],
      "metadata": {
        "colab": {
          "base_uri": "https://localhost:8080/",
          "height": 296
        },
        "id": "oPQwCgKccraq",
        "outputId": "262ae450-b66a-4f5b-b09a-7aeb2c5c978c"
      },
      "execution_count": 26,
      "outputs": [
        {
          "output_type": "execute_result",
          "data": {
            "text/plain": [
              "<sklearn.metrics._plot.confusion_matrix.ConfusionMatrixDisplay at 0x7feb01a21610>"
            ]
          },
          "metadata": {},
          "execution_count": 26
        },
        {
          "output_type": "display_data",
          "data": {
            "image/png": "[encoded data removed]",
            "text/plain": [
              "<Figure size 432x288 with 2 Axes>"
            ]
          },
          "metadata": {
            "needs_background": "light"
          }
        }
      ]
    },
    {
      "cell_type": "markdown",
      "source": [
        "Como podemos ver nuestro modelo hace un buen trabajo prediciendo aquellos tiros que no terminan en gol. Sin embargo, lo hace mal cuando tiene que predecir la otra clase."
      ],
      "metadata": {
        "id": "sVDeT9I1SzRO"
      }
    },
    {
      "cell_type": "markdown",
      "source": [
        "También podemos trazar la ROC-curve y sacar una métrica como el recall para seguir observando el desempeño de nuestro modelo"
      ],
      "metadata": {
        "id": "JcJSyUqpTdBP"
      }
    },
    {
      "cell_type": "code",
      "source": [
        "RocCurveDisplay.from_estimator(lrmodel_grid, x_test, y_test)"
      ],
      "metadata": {
        "colab": {
          "base_uri": "https://localhost:8080/",
          "height": 296
        },
        "id": "GzXyDEjXfKc8",
        "outputId": "29bc503a-4cd0-49e4-a26f-60c41de31cd4"
      },
      "execution_count": 28,
      "outputs": [
        {
          "output_type": "execute_result",
          "data": {
            "text/plain": [
              "<sklearn.metrics._plot.roc_curve.RocCurveDisplay at 0x7feafea101d0>"
            ]
          },
          "metadata": {},
          "execution_count": 28
        },
        {
          "output_type": "display_data",
          "data": {
            "image/png": "[encoded data removed]",
            "text/plain": [
              "<Figure size 432x288 with 1 Axes>"
            ]
          },
          "metadata": {
            "needs_background": "light"
          }
        }
      ]
    },
    {
      "cell_type": "markdown",
      "source": [
        "Una manera de ver la curva ROC es que entre más cercana este a la diagonal de 45° que pasa por $(0, 0)$ menos preciso es el modelo."
      ],
      "metadata": {
        "id": "80aJ3BTwWJsE"
      }
    },
    {
      "cell_type": "code",
      "source": [
        "y_pred=lrmodel_grid.predict(x_test)\n",
        "print(\"el recall score es  \", recall_score(y_test, y_pred))"
      ],
      "metadata": {
        "colab": {
          "base_uri": "https://localhost:8080/"
        },
        "id": "Nabkb-J5blYG",
        "outputId": "424279b8-795e-477c-ac56-05deff59e098"
      },
      "execution_count": 29,
      "outputs": [
        {
          "output_type": "stream",
          "name": "stdout",
          "text": [
            "el recall score es   0.14009661835748793\n"
          ]
        }
      ]
    },
    {
      "cell_type": "markdown",
      "source": [
        "El recall score mide que tan bien el modelo predijo todas las posibles observaciones positivas.\n",
        "\n",
        "[ref](https://saifmorahman.medium.com/interpreting-accuracy-precision-recall-and-f1-score-metrics-46bba7f00b2c)"
      ],
      "metadata": {
        "id": "LZGnKXDFXnwS"
      }
    },
    {
      "cell_type": "markdown",
      "source": [
        "Ahora podemos implementar un nuevo modelo de ML, en este caso usaremos el Random Forest Classifier"
      ],
      "metadata": {
        "id": "TzMR271iZABT"
      }
    },
    {
      "cell_type": "code",
      "source": [
        "rf=RandomForestClassifier() \n",
        "\n",
        "\n",
        "#Definimos una grilla\n",
        "n_estimators = [int(x) for x in np.linspace(start = 200, stop = 2000, num = 10)]\n",
        "max_features = ['auto', 'sqrt']\n",
        "max_depth = [int(x) for x in np.linspace(10, 110, num = 11)]\n",
        "max_depth.append(None)\n",
        "min_samples_split = [2, 5, 10]\n",
        "min_samples_leaf = [1, 2, 4]\n",
        "bootstrap = [True, False]\n",
        "\n",
        "random_grid = {'n_estimators': n_estimators,\n",
        "               'max_features': max_features,\n",
        "               'max_depth': max_depth,\n",
        "               'min_samples_split': min_samples_split,\n",
        "               'min_samples_leaf': min_samples_leaf,\n",
        "               'bootstrap': bootstrap}\n",
        "\n",
        "#buscamos los mejores parámetros con RandomizedSearchCV\n",
        "rf_random = RandomizedSearchCV(rf, random_grid, n_iter =10, cv=3)\n",
        "#entrenamos el modelo\n",
        "rf_random.fit(x_train, y_train)"
      ],
      "metadata": {
        "id": "AnfXfXswg87Y",
        "colab": {
          "base_uri": "https://localhost:8080/"
        },
        "outputId": "ac0b2b1d-de33-4817-b00c-79b69b84614c"
      },
      "execution_count": 30,
      "outputs": [
        {
          "output_type": "execute_result",
          "data": {
            "text/plain": [
              "RandomizedSearchCV(cv=3, estimator=RandomForestClassifier(),\n",
              "                   param_distributions={'bootstrap': [True, False],\n",
              "                                        'max_depth': [10, 20, 30, 40, 50, 60,\n",
              "                                                      70, 80, 90, 100, 110,\n",
              "                                                      None],\n",
              "                                        'max_features': ['auto', 'sqrt'],\n",
              "                                        'min_samples_leaf': [1, 2, 4],\n",
              "                                        'min_samples_split': [2, 5, 10],\n",
              "                                        'n_estimators': [200, 400, 600, 800,\n",
              "                                                         1000, 1200, 1400, 1600,\n",
              "                                                         1800, 2000]})"
            ]
          },
          "metadata": {},
          "execution_count": 30
        }
      ]
    },
    {
      "cell_type": "markdown",
      "source": [
        "Ahora evaluemos el desempeño de este modelo con las métricas anteriores"
      ],
      "metadata": {
        "id": "mQrgzeIfa3W9"
      }
    },
    {
      "cell_type": "code",
      "source": [
        "ConfusionMatrixDisplay.from_estimator(rf_random, x_test, y_test)"
      ],
      "metadata": {
        "colab": {
          "base_uri": "https://localhost:8080/",
          "height": 296
        },
        "id": "-bv0XOwpiykX",
        "outputId": "60e24377-2f7b-46a6-9265-207ba308be15"
      },
      "execution_count": 31,
      "outputs": [
        {
          "output_type": "execute_result",
          "data": {
            "text/plain": [
              "<sklearn.metrics._plot.confusion_matrix.ConfusionMatrixDisplay at 0x7feafe9fa210>"
            ]
          },
          "metadata": {},
          "execution_count": 31
        },
        {
          "output_type": "display_data",
          "data": {
            "image/png": "[encoded data removed]",
            "text/plain": [
              "<Figure size 432x288 with 2 Axes>"
            ]
          },
          "metadata": {
            "needs_background": "light"
          }
        }
      ]
    },
    {
      "cell_type": "markdown",
      "source": [
        "Podemos ver que este nuevo modelo no representa un cambio significativo con el modelo anterior respecto a predecir correctamente la clase 1 (goles)"
      ],
      "metadata": {
        "id": "L8QMKyOdbAVB"
      }
    },
    {
      "cell_type": "markdown",
      "source": [
        "Para terminar también podemos trazar la ROC curve y determinar el recall"
      ],
      "metadata": {
        "id": "sD3Kou9bbSTe"
      }
    },
    {
      "cell_type": "code",
      "source": [
        "RocCurveDisplay.from_estimator(rf_random, x_test, y_test)"
      ],
      "metadata": {
        "colab": {
          "base_uri": "https://localhost:8080/",
          "height": 296
        },
        "id": "xktinX27jGib",
        "outputId": "74ccb4a8-3863-40f2-c58a-4cf0f64d4a2d"
      },
      "execution_count": 32,
      "outputs": [
        {
          "output_type": "execute_result",
          "data": {
            "text/plain": [
              "<sklearn.metrics._plot.roc_curve.RocCurveDisplay at 0x7feafe7ff090>"
            ]
          },
          "metadata": {},
          "execution_count": 32
        },
        {
          "output_type": "display_data",
          "data": {
            "image/png": "[encoded data removed]",
            "text/plain": [
              "<Figure size 432x288 with 1 Axes>"
            ]
          },
          "metadata": {
            "needs_background": "light"
          }
        }
      ]
    },
    {
      "cell_type": "code",
      "source": [
        "y_pred_rf = rf_random.predict(x_test)\n",
        "print('el recall score es:  ', recall_score(y_test, y_pred_rf))"
      ],
      "metadata": {
        "colab": {
          "base_uri": "https://localhost:8080/"
        },
        "id": "TxYraApGjDtL",
        "outputId": "4ba55aa4-13a2-4c0d-8985-7beb4ab5f276"
      },
      "execution_count": 34,
      "outputs": [
        {
          "output_type": "stream",
          "name": "stdout",
          "text": [
            "el recall score es:   0.13526570048309178\n"
          ]
        }
      ]
    },
    {
      "cell_type": "markdown",
      "source": [
        "## Últimas consideraciones"
      ],
      "metadata": {
        "id": "SXbJPoKdbnzC"
      }
    },
    {
      "cell_type": "markdown",
      "source": [
        "* La inspiración para este proyecto salió del canal de youtube llamado **friends of tracking**\n",
        "* El performance de nuestro modelo, a mí parecer, puede mejorar si quitamos algunas variables que parecen no ser tan importantes para predecir.\n",
        "* Además de lo anterior, existen limitaciones del modelo xG. Se puede ver una discusión sobre el tema [aquí](https://www.youtube.com/watch?v=310_eW0hUqQ)\n",
        "* Por último, existen muchas cuestiones que se pueden mejorar en este trabajo (por ejemplo, se podría crear una función para toda la carga de datos), en las cuales espero trabajar pronto.\n",
        "\n",
        ":D  "
      ],
      "metadata": {
        "id": "6_ij3eM5bwdT"
      }
    }
  ]
}